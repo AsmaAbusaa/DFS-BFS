{
 "cells": [
  {
   "attachments": {},
   "cell_type": "markdown",
   "metadata": {},
   "source": [
    "# DFS "
   ]
  },
  {
   "cell_type": "code",
   "execution_count": null,
   "metadata": {},
   "outputs": [],
   "source": [
    "g={'S':['A','B','C'],'A':['D','E','G'],'B':['G'],'C':['G']}\n",
    "goal='G'\n",
    "s=['S']\n",
    "visited=[]\n",
    "while(s):\n",
    "    node=s.pop(0)\n",
    "    visited.append(node)\n",
    "    if(node==goal):\n",
    "        break\n",
    "    temp=[]\n",
    "    for i in g.get(node,[]):\n",
    "       temp.append(i)\n",
    "    while(temp!=[]):\n",
    "        s.insert(0,temp.pop())   \n",
    "    \n",
    "     \n",
    "print(visited)       \n"
   ]
  },
  {
   "attachments": {},
   "cell_type": "markdown",
   "metadata": {},
   "source": [
    "# DFS Recursion\n"
   ]
  },
  {
   "cell_type": "code",
   "execution_count": 1,
   "metadata": {},
   "outputs": [
    {
     "name": "stdout",
     "output_type": "stream",
     "text": [
      "['S', 'A', 'G']\n",
      "['S', 'A', 'D', 'E', 'G']\n"
     ]
    }
   ],
   "source": [
    "def DFS(root,goal,visited):\n",
    "    \n",
    "    visited.append(root)\n",
    "   \n",
    "    if root==goal:\n",
    "       return [root]\n",
    "    for i in g.get(root,[]):\n",
    "       if i not in visited:\n",
    "          sol=DFS(i,goal,visited)\n",
    "          if sol:\n",
    "            return [root]+sol\n",
    "    \n",
    "g={'S':['A','B','C'],'A':['D','E','G'],'B':['G'],'C':['G']}\n",
    "visited=[]\n",
    "print(DFS('S','G',visited))\n",
    "print(visited)\n"
   ]
  },
  {
   "attachments": {},
   "cell_type": "markdown",
   "metadata": {},
   "source": [
    "# BFS Recursion"
   ]
  },
  {
   "cell_type": "code",
   "execution_count": null,
   "metadata": {},
   "outputs": [],
   "source": [
    "\n",
    "g={'S':['A','B','C'],'A':['D','E','G'],'B':['G'],'C':['G']}\n",
    "\n",
    "visited=[]\n",
    "temp=[]\n",
    "q=[]\n",
    "goal='G'\n",
    "def BFS(root,goal,visited):\n",
    "    visited.append(root)\n",
    "    if(root==goal):\n",
    "        return [root]\n",
    "    for i in g.get(root,[]):\n",
    "       temp.append(i)\n",
    "\n",
    "    while(temp!=[]):\n",
    "        q.append(temp.pop(0)) \n",
    "    return BFS(q.pop(0),goal,visited)\n",
    "    \n",
    "BFS('S',goal,visited)\n",
    "print(visited)\n"
   ]
  },
  {
   "cell_type": "code",
   "execution_count": null,
   "metadata": {},
   "outputs": [],
   "source": [
    "g={'S':['A','B','C'],'A':['D','E','G'],'B':['G'],'C':['G']}\n",
    "\n",
    "visited=[]\n",
    "goal='G'\n",
    "def BFS(root,goal,visited):\n",
    "    visited.append(root)\n",
    "  \n",
    "    \n",
    "print(visited)\n",
    "print(BFS('S',goal,visited))"
   ]
  }
 ],
 "metadata": {
  "kernelspec": {
   "display_name": "Python 3",
   "language": "python",
   "name": "python3"
  },
  "language_info": {
   "codemirror_mode": {
    "name": "ipython",
    "version": 3
   },
   "file_extension": ".py",
   "mimetype": "text/x-python",
   "name": "python",
   "nbconvert_exporter": "python",
   "pygments_lexer": "ipython3",
   "version": "3.10.4"
  },
  "orig_nbformat": 4,
  "vscode": {
   "interpreter": {
    "hash": "c41245681b0c5dfdc198064911b7c792a0421ee2cbedc4ec4c9079156fd03e41"
   }
  }
 },
 "nbformat": 4,
 "nbformat_minor": 2
}
